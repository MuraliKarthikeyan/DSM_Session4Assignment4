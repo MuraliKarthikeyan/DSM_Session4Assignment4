{
 "cells": [
  {
   "cell_type": "markdown",
   "metadata": {},
   "source": [
    "# Data Science Masters :Assignment 4"
   ]
  },
  {
   "cell_type": "markdown",
   "metadata": {},
   "source": [
    "1.1 Write a Python Program(with class concepts) to find the area of the triangle using the below formula.\n",
    "\n",
    "area = (s*(s-a)*(s-b)*(s-c)) ** 0.5\n",
    "\n",
    "Function to take the length of the sides of triangle from user should be defined in the parent\n",
    "class and function to calculate the area should be defined in subclass."
   ]
  },
  {
   "cell_type": "code",
   "execution_count": 26,
   "metadata": {
    "scrolled": true
   },
   "outputs": [
    {
     "name": "stdout",
     "output_type": "stream",
     "text": [
      "Enter the value of side 1 : 3\n",
      "Enter the value of side 2 : 4\n",
      "Enter the value of side 3 : 5\n",
      "Area of the triangle is 6.00\n"
     ]
    }
   ],
   "source": [
    "# Solution:\n",
    "\n",
    "class InputClass():  # Parent Class\n",
    "    def __init__(self,sides=[]):\n",
    "        self.input_sides = sides\n",
    "    def getInput(self):\n",
    "        self.input_sides = [float(input(\"Enter the value of side \"+str(i+1)+\" : \")) for i in range(3)]\n",
    "class OutputClass(InputClass): # SubClass\n",
    "    def findArea(self):\n",
    "        a,b,c = self.input_sides\n",
    "        s = (a + b + c) / 2         # calculate the semi-perimeter\n",
    "        area = (s*(s-a)*(s-b)*(s-c)) ** 0.5\n",
    "        print('Area of the triangle is %0.2f' %area)\n",
    "        \n",
    "triangle = OutputClass() # Object for subClass (OutputClass)\n",
    "triangle.getInput()      # Accessing the parent class method getInput()\n",
    "triangle.findArea()      # Calculating the area defined in subclass findArea()        "
   ]
  },
  {
   "cell_type": "markdown",
   "metadata": {},
   "source": [
    "1.2 Write a function filter_long_words() that takes a list of words and an integer n and returns the list of words that are longer than n.\n"
   ]
  },
  {
   "cell_type": "code",
   "execution_count": 1,
   "metadata": {},
   "outputs": [
    {
     "name": "stdout",
     "output_type": "stream",
     "text": [
      "Enter the List of names in a comma-seperated format: Marcy,Rod,James,Smith,Lara,Sherry,Paul,Jim,Colin,Craig\n",
      "Enter the number of characters for filtering the list: 4\n",
      "Filtered List with more than 4 characters: ['Marcy', 'James', 'Smith', 'Sherry', 'Colin', 'Craig']\n"
     ]
    }
   ],
   "source": [
    "# Solution:\n",
    "\n",
    "def filter_long_words(strList,n):\n",
    "    return [word for word in strList if len(word) > n]\n",
    "inputStrList = input(\"Enter the List of names in a comma-seperated format: \")\n",
    "inputList = inputStrList.split(\",\")\n",
    "numberChar =  int(input(\"Enter the number of characters for filtering the list: \"))\n",
    "print(\"Filtered List with more than\",numberChar,\"characters:\",filter_long_words(inputList,numberChar))"
   ]
  },
  {
   "cell_type": "markdown",
   "metadata": {},
   "source": [
    "2.1 Write a Python program using function concept that maps list of words into a list of integer representing the lengths of the corresponding words.\n",
    "\n",
    "Hint: ​If a list [ ab,cde,erty] is passed on to the python function output should come as [2,3,4]\n",
    "\n",
    "Here 2,3 and 4 are the lengths of the words in the list."
   ]
  },
  {
   "cell_type": "code",
   "execution_count": 2,
   "metadata": {},
   "outputs": [
    {
     "name": "stdout",
     "output_type": "stream",
     "text": [
      "Enter the List of words in a comma-seperated format: a,bc,def,ghij,klmno,pqrstu,vwxyz12\n",
      "Output List: [1, 2, 3, 4, 5, 6, 7]\n"
     ]
    }
   ],
   "source": [
    "# Solution:\n",
    "\n",
    "def str_mapwithlength(strList):\n",
    "    return [len(word) for word in strList]\n",
    "inputStrList = input(\"Enter the List of words in a comma-seperated format: \")\n",
    "inputList = inputStrList.split(\",\")\n",
    "print(\"Output List:\",str_mapwithlength(inputList))"
   ]
  },
  {
   "cell_type": "markdown",
   "metadata": {},
   "source": [
    "2.2 Write a Python function which takes a character (i.e. a string of length 1) and returns True if\n",
    "it is a vowel, False otherwise."
   ]
  },
  {
   "cell_type": "code",
   "execution_count": 3,
   "metadata": {},
   "outputs": [
    {
     "name": "stdout",
     "output_type": "stream",
     "text": [
      "Enter the letter to check whether it is Vowel or Consonant: e\n",
      "e is a vowel\n"
     ]
    }
   ],
   "source": [
    "# Solution:\n",
    "\n",
    "def checkVowel(char):\n",
    "    c = char.upper()\n",
    "    if (c == \"A\" or c == \"E\" or c == \"I\" or c == \"O\" or c == \"U\"):\n",
    "        return True\n",
    "    else:\n",
    "        return False\n",
    "char =  input(\"Enter the letter to check whether it is Vowel or Consonant: \")\n",
    "if(checkVowel(char)):\n",
    "    print(char,\"is a vowel\")\n",
    "else:\n",
    "    print(char,\"is a consonant\")"
   ]
  }
 ],
 "metadata": {
  "kernelspec": {
   "display_name": "Python 3",
   "language": "python",
   "name": "python3"
  },
  "language_info": {
   "codemirror_mode": {
    "name": "ipython",
    "version": 3
   },
   "file_extension": ".py",
   "mimetype": "text/x-python",
   "name": "python",
   "nbconvert_exporter": "python",
   "pygments_lexer": "ipython3",
   "version": "3.6.5"
  }
 },
 "nbformat": 4,
 "nbformat_minor": 2
}
